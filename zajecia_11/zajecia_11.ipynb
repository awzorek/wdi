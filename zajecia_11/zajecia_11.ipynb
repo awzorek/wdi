{
  "nbformat": 4,
  "nbformat_minor": 0,
  "metadata": {
    "colab": {
      "provenance": [],
      "toc_visible": true
    },
    "kernelspec": {
      "name": "python3",
      "display_name": "Python 3"
    },
    "language_info": {
      "name": "python"
    }
  },
  "cells": [
    {
      "cell_type": "markdown",
      "source": [
        "# Program"
      ],
      "metadata": {
        "id": "6iBwdvCJIU5L"
      }
    },
    {
      "cell_type": "code",
      "source": [
        "%%file zadanie_5.py\n",
        "import math"
      ],
      "metadata": {
        "id": "dqQps440EepY"
      },
      "execution_count": null,
      "outputs": []
    },
    {
      "cell_type": "code",
      "source": [
        "%%writefile -a zadanie_5.py\n",
        "\n",
        "class ComplexNumber:\n",
        "    def __init__(self, re, im):\n",
        "        self.re = re\n",
        "        self.im = im\n",
        "\n",
        "    def add(self, other):\n",
        "        return ComplexNumber(round(self.re + other.re, 2), round(self.im + other.im, 2))\n",
        "\n",
        "    def subtract(self, other):\n",
        "        return ComplexNumber(round(self.re - other.re, 2), round(self.im - other.im, 2))\n",
        "\n",
        "    def multiply(self, other):\n",
        "        re = self.re * other.re - self.im * other.im\n",
        "        im = self.re * other.im + self.im * other.re\n",
        "        return ComplexNumber(round(re, 2), round(im, 2))\n",
        "\n",
        "    def divide(self, other):\n",
        "        denominator = other.re**2 + other.im**2\n",
        "        re = (self.re * other.re + self.im * other.im) / denominator\n",
        "        im = (self.im * other.re - self.re * other.im) / denominator\n",
        "        return ComplexNumber(round(re, 2), round(im, 2))\n",
        "\n",
        "    def power(self, n):\n",
        "        r = math.sqrt(self.re**2 + self.im**2)\n",
        "        phi = math.atan2(self.im, self.re)\n",
        "        r_n = r ** n\n",
        "        phi_n = phi * n\n",
        "        re = r_n * math.cos(phi_n)\n",
        "        im = r_n * math.sin(phi_n)\n",
        "        return ComplexNumber(round(re, 2), round(im, 2))\n",
        "\n",
        "    def __str__(self):\n",
        "        Re = round(self.re, 2)\n",
        "        Im = round(self.im, 2)\n",
        "        Re_str = f\"{Re:.2f}\".rstrip('0').rstrip('.')\n",
        "        Im_str = f\"{Im:.2f}\".rstrip('0').rstrip('.')\n",
        "        if Im == 0:\n",
        "            return f\"{Re_str}\"\n",
        "        elif Re == 0:\n",
        "            return f\"{Im_str}i\"\n",
        "        elif Im > 0:\n",
        "            return f\"{Re_str} + {Im_str}i\"\n",
        "        else:\n",
        "            return f\"{Re_str} - {Im_str.lstrip('-')}i\""
      ],
      "metadata": {
        "id": "Vk2CuMf0Egrl"
      },
      "execution_count": null,
      "outputs": []
    },
    {
      "cell_type": "code",
      "source": [
        "%%writefile -a zadanie_5.py\n",
        "\n",
        "def read_complex(coefficient):\n",
        "    while True:\n",
        "        try:\n",
        "            components = input(f\"Podaj współczynnik {coefficient}: \").split()\n",
        "            Re = float(components[0])\n",
        "            Im = float(components[1])\n",
        "            return ComplexNumber(Re, Im)\n",
        "        except (ValueError, IndexError):\n",
        "            print(\"Błąd: wprowadź poprawne liczby w formacie (Re Im).\")\n",
        "\n",
        "def print_equation(a, b, c):\n",
        "    print(f\"\\nRównanie kwadratowe: ({a}) * z^2 + ({b}) * z + ({c}) = 0\")\n",
        "\n",
        "def solve_quadratic(a, b, c):\n",
        "    if a.re == 0 and a.im == 0:\n",
        "        print(\"To nie jest równanie kwadratowe - współczynnik a = 0.\")\n",
        "        return None, None\n",
        "\n",
        "    delta = b.power(2).subtract(a.multiply(c).multiply(ComplexNumber(4, 0)))\n",
        "    sqrt_delta = delta.power(0.5)\n",
        "\n",
        "    z1 = sqrt_delta.subtract(b).divide(a.multiply(ComplexNumber(2, 0)))\n",
        "    z2 = ComplexNumber(-sqrt_delta.re, -sqrt_delta.im).subtract(b).divide(a.multiply(ComplexNumber(2, 0)))\n",
        "\n",
        "    if math.isclose(z1.re, z2.re, abs_tol=1e-9) and math.isclose(z1.im, z2.im, abs_tol=1e-9):\n",
        "        return z1, None\n",
        "    return z1, z2"
      ],
      "metadata": {
        "id": "ew8gJwoWEk7-"
      },
      "execution_count": null,
      "outputs": []
    },
    {
      "cell_type": "code",
      "source": [
        "%%writefile -a zadanie_5.py\n",
        "\n",
        "if __name__ == \"__main__\":\n",
        "    print(\"Wczytaj współczynniki zespolone równania kwadratowego (część rzeczywista i urojona oddzielone spacją):\")\n",
        "    a = read_complex(\"a\")\n",
        "    b = read_complex(\"b\")\n",
        "    c = read_complex(\"c\")\n",
        "    print_equation(a, b, c)\n",
        "    solutions = solve_quadratic(a, b, c)\n",
        "    if solutions[0] is not None:\n",
        "        print(\"\\nRozwiązania równania kwadratowego:\")\n",
        "        if solutions[1] is None:\n",
        "            print(f\"z0 = {solutions[0]}\")\n",
        "        else:\n",
        "            print(f\"z1 = {solutions[0]}\")\n",
        "            print(f\"z2 = {solutions[1]}\")"
      ],
      "metadata": {
        "id": "6mDfm6j4E7w7"
      },
      "execution_count": null,
      "outputs": []
    },
    {
      "cell_type": "markdown",
      "source": [
        "# Testy: unittest"
      ],
      "metadata": {
        "id": "98r48KZ-FNHE"
      }
    },
    {
      "cell_type": "code",
      "source": [
        "%%file unittest_zadanie_5.py\n",
        "import unittest\n",
        "from unittest.mock import patch\n",
        "from zadanie_5 import ComplexNumber, read_complex"
      ],
      "metadata": {
        "id": "NZiUr758FUvs"
      },
      "execution_count": null,
      "outputs": []
    },
    {
      "cell_type": "code",
      "source": [
        "%%writefile -a unittest_zadanie_5.py\n",
        "\n",
        "class TestComplexNumber(unittest.TestCase):\n",
        "    def test_addition(self):\n",
        "        z1 = ComplexNumber(1, 2)\n",
        "        z2 = ComplexNumber(3, 4)\n",
        "        result = z1.add(z2)\n",
        "        self.assertEqual(result.re, 4)\n",
        "        self.assertEqual(result.im, 6)\n",
        "\n",
        "    def test_divide_zero(self):\n",
        "        z1 = ComplexNumber(1, 2)\n",
        "        z2 = ComplexNumber(0, 0)\n",
        "        with self.assertRaises(ZeroDivisionError):\n",
        "            z1.divide(z2)\n",
        "\n",
        "    @patch(\"builtins.input\", side_effect=[\"5 3\"])\n",
        "    def test_read_complex(self, mock_input):\n",
        "        complex_number = read_complex(\"test\")\n",
        "        self.assertEqual(complex_number.re, 5)\n",
        "        self.assertEqual(complex_number.im, 3)"
      ],
      "metadata": {
        "id": "_DD1z8pjFYow"
      },
      "execution_count": null,
      "outputs": []
    },
    {
      "cell_type": "code",
      "source": [
        "!python -m unittest unittest_zadanie_5"
      ],
      "metadata": {
        "id": "bqmgJVcAO4Vd"
      },
      "execution_count": null,
      "outputs": []
    },
    {
      "cell_type": "markdown",
      "source": [
        "# Testy: pytest"
      ],
      "metadata": {
        "id": "86Ti-bRbG-yj"
      }
    },
    {
      "cell_type": "code",
      "source": [
        "%%file pytest_zadanie_5.py\n",
        "import pytest\n",
        "from zadanie_5 import ComplexNumber, solve_quadratic"
      ],
      "metadata": {
        "id": "hWuHdIqoLVll"
      },
      "execution_count": null,
      "outputs": []
    },
    {
      "cell_type": "code",
      "source": [
        "%%writefile -a pytest_zadanie_5.py\n",
        "\n",
        "def test_subtraction():\n",
        "    z1 = ComplexNumber(4, 3)\n",
        "    z2 = ComplexNumber(2, 1)\n",
        "    result = z1.subtract(z2)\n",
        "    assert result.re == 2\n",
        "    assert result.im == 2\n",
        "\n",
        "def test_power():\n",
        "    z = ComplexNumber(-1, 1)\n",
        "    result = z.power(19)\n",
        "    assert result.re == 512\n",
        "    assert result.im == 512\n",
        "\n",
        "def test_solve_quadratic():\n",
        "    a = ComplexNumber(1, 0)\n",
        "    b = ComplexNumber(2, -2)\n",
        "    c = ComplexNumber(-7, -26)\n",
        "    z1, z2 = solve_quadratic(a, b, c)\n",
        "    assert z1.re == 3\n",
        "    assert z1.im == 4\n",
        "    assert z2.re == -5\n",
        "    assert z2.im == -2"
      ],
      "metadata": {
        "id": "hUOOnBiIK1TO"
      },
      "execution_count": null,
      "outputs": []
    },
    {
      "cell_type": "code",
      "source": [
        "!python -m pytest pytest_zadanie_5.py"
      ],
      "metadata": {
        "id": "Wvv8izB9Lkzl"
      },
      "execution_count": null,
      "outputs": []
    }
  ]
}